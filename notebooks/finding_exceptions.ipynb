{
 "cells": [
  {
   "cell_type": "markdown",
   "metadata": {},
   "source": [
    "Write a program that calculates ticket prices for a theme park based on age and whether the visitor is a student or senior.\n",
    "\n",
    "Students must be under the age of 30 to get the discount"
   ]
  },
  {
   "cell_type": "code",
   "execution_count": 1,
   "metadata": {},
   "outputs": [
    {
     "name": "stdout",
     "output_type": "stream",
     "text": [
      "The ticket price is: $15\n"
     ]
    }
   ],
   "source": [
    "def calculate_ticket_price(age, is_student, is_senior):\n",
    "    if age < 0:\n",
    "        return \"Invalid age\"\n",
    "    \n",
    "    if age < 3:\n",
    "        return 0  #Gratis Eintritt für Menschen mit dem Alter unter 3\n",
    "    elif age <= 12:\n",
    "        return 10  #Kinder Preis\n",
    "    elif age < 30 and is_student:\n",
    "        return 15  #Studenten Preis\n",
    "    elif age >= 65 and is_senior:\n",
    "        return 12  #Senioren Preis\n",
    "    else:\n",
    "        return 20  #Regülärer Preis\n",
    "\n",
    "#Beispiel für einen Studenten\n",
    "age = 25\n",
    "is_student = True\n",
    "is_senior = False\n",
    "\n",
    "price = calculate_ticket_price(age, is_student, is_senior)\n",
    "print(f\"The ticket price is: ${price}\")"
   ]
  },
  {
   "cell_type": "markdown",
   "metadata": {},
   "source": [
    "Rock Paper Scissors\n",
    "\n",
    "Error with something with the number idk"
   ]
  },
  {
   "cell_type": "code",
   "execution_count": 14,
   "metadata": {},
   "outputs": [
    {
     "ename": "TypeError",
     "evalue": "'int' object is not callable",
     "output_type": "error",
     "traceback": [
      "\u001b[0;31m---------------------------------------------------------------------------\u001b[0m",
      "\u001b[0;31mTypeError\u001b[0m                                 Traceback (most recent call last)",
      "Cell \u001b[0;32mIn[14], line 4\u001b[0m\n\u001b[1;32m      1\u001b[0m \u001b[38;5;28;01mimport\u001b[39;00m \u001b[38;5;21;01mrandom\u001b[39;00m\n\u001b[1;32m      3\u001b[0m number_of_games \u001b[38;5;241m=\u001b[39m \u001b[38;5;28mint\u001b[39m(\u001b[38;5;28minput\u001b[39m(\u001b[38;5;124m\"\u001b[39m\u001b[38;5;124mHow many times do you want to play? \u001b[39m\u001b[38;5;124m\"\u001b[39m))\n\u001b[0;32m----> 4\u001b[0m \u001b[38;5;28;01mfor\u001b[39;00m i \u001b[38;5;129;01min\u001b[39;00m \u001b[38;5;28;43mrange\u001b[39;49m\u001b[43m(\u001b[49m\u001b[43mnumber_of_games\u001b[49m\u001b[43m)\u001b[49m:\n\u001b[1;32m      5\u001b[0m     user_action \u001b[38;5;241m=\u001b[39m \u001b[38;5;28minput\u001b[39m(\u001b[38;5;124m\"\u001b[39m\u001b[38;5;124mEnter a choice (rock, paper, scissors): \u001b[39m\u001b[38;5;124m\"\u001b[39m)\n\u001b[1;32m      6\u001b[0m     possible_actions \u001b[38;5;241m=\u001b[39m [\u001b[38;5;124m\"\u001b[39m\u001b[38;5;124mrock\u001b[39m\u001b[38;5;124m\"\u001b[39m, \u001b[38;5;124m\"\u001b[39m\u001b[38;5;124mpaper\u001b[39m\u001b[38;5;124m\"\u001b[39m, \u001b[38;5;124m\"\u001b[39m\u001b[38;5;124mscissors\u001b[39m\u001b[38;5;124m\"\u001b[39m]\n",
      "\u001b[0;31mTypeError\u001b[0m: 'int' object is not callable"
     ]
    }
   ],
   "source": [
    "import random\n",
    "\n",
    "number_of_games = input(\"How many times do you want to play? \")\n",
    "for i in range(number_of_games):\n",
    "    user_action = input(\"Enter a choice (rock, paper, scissors): \")\n",
    "    possible_actions = [\"rock\", \"paper\", \"scissors\"]\n",
    "    computer_action = random.choice(possible_actions)\n",
    "    print (f\"Round {i}\")\n",
    "    print (f\"\\nYou chose {user_action}, computer chose {computer_action}.\\n\")\n",
    "    if user_action == computer_action:\n",
    "        print(f\"Both players selected {user_action}. It's a tie!\")\n",
    "    elif user_action == \"rock\":\n",
    "        if computer_action == \"scissors\":\n",
    "            print(\"Rock smashes scissors! You win!\")\n",
    "        else:\n",
    "            print(\"Paper covers rock! You lose.\")\n",
    "    elif user_action == \"paper\":\n",
    "        if computer_action == \"rock\":\n",
    "            print(\"Paper covers rock! You win!\")\n",
    "        else:\n",
    "            print(\"Scissors cuts paper! You lose.\")\n",
    "    elif user_action == \"scissors\":\n",
    "        if computer_action == \"paper\":\n",
    "            print(\"Scissors cuts paper! You win!\")\n",
    "        else:\n",
    "            print(\"Rock smashes scissors! You lose.\")\n",
    "    else:\n",
    "        print(\"Invalid input! You have not entered rock, paper or scissors, try again.\")\n",
    "    "
   ]
  },
  {
   "cell_type": "markdown",
   "metadata": {},
   "source": [
    "Earthqauke Categorization"
   ]
  },
  {
   "cell_type": "code",
   "execution_count": null,
   "metadata": {},
   "outputs": [],
   "source": [
    "try:\n",
    "    magnitude = float(input(\"Enter earthquake magnitude: \"))\n",
    "except ValueError:\n",
    "    print(\"Invalid input. Please enter a numeric value.\")\n",
    "else:\n",
    "    if magnitude < 0:\n",
    "        print(\"Magnitude cannot be negative. Please enter a non-negative value.\")\n",
    "    else:\n",
    "        # Determine the category using ternary expressions\n",
    "        category = (\n",
    "            \"Micro\" if magnitude < 2.0 else\n",
    "            \"Minor\" if magnitude < 4.0 else\n",
    "            \"Light\" if magnitude < 5.0 else\n",
    "            \"Moderate\" if magnitude < 6.0 else\n",
    "            \"Strong\" if magnitude < 7.0 else\n",
    "            \"Major\" if magnitude < 8.0 else\n",
    "            \"Great\"\n",
    "        )\n",
    "        \n",
    "        # Determine advice based on category\n",
    "        match category:\n",
    "            case \"Micro\":\n",
    "                advice = \"No action needed.\"\n",
    "            case \"Minor\":\n",
    "                advice = \"Stay alert.\"\n",
    "            case \"Light\":\n",
    "                advice = \"Check surroundings for safety.\"\n",
    "            case \"Moderate\":\n",
    "                advice = \"Stay indoors.\"\n",
    "            case \"Strong\":\n",
    "                advice = \"Follow emergency protocols.\"\n",
    "            case \"Major\":\n",
    "                advice = \"Evacuate if advised.\"\n",
    "            case \"Great\":\n",
    "                advice = \"Evacuate immediately.\"\n",
    "            case _:\n",
    "                advice = \"No advice available.\"\n",
    "        \n",
    "        print(f\"Category: {category}\\nAdvice: {advice}\")"
   ]
  }
 ],
 "metadata": {
  "kernelspec": {
   "display_name": "Python 3",
   "language": "python",
   "name": "python3"
  },
  "language_info": {
   "codemirror_mode": {
    "name": "ipython",
    "version": 3
   },
   "file_extension": ".py",
   "mimetype": "text/x-python",
   "name": "python",
   "nbconvert_exporter": "python",
   "pygments_lexer": "ipython3",
   "version": "3.12.1"
  }
 },
 "nbformat": 4,
 "nbformat_minor": 2
}
