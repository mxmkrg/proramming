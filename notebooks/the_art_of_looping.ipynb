{
 "cells": [
  {
   "cell_type": "markdown",
   "metadata": {},
   "source": [
    "The Art of looping - Lecture and Projects"
   ]
  },
  {
   "cell_type": "markdown",
   "metadata": {},
   "source": [
    "Coding Task:\n",
    "Create a code that prints a christmas tree"
   ]
  },
  {
   "cell_type": "code",
   "execution_count": 6,
   "metadata": {},
   "outputs": [
    {
     "name": "stdout",
     "output_type": "stream",
     "text": [
      "         *\n",
      "        ***\n",
      "       *****\n",
      "      *******\n",
      "     *********\n",
      "    ***********\n",
      "   *************\n",
      "  ***************\n",
      " *****************\n",
      "*******************\n",
      "        ***\n",
      "        ***\n",
      "        ***\n"
     ]
    }
   ],
   "source": [
    "# Benutzer nach der Länge des Weihnachtsbaums fragen\n",
    "hoehe = int(input(\"Bitte geben Sie die Höhe des Weihnachtsbaums ein: \"))\n",
    "\n",
    "# Weihnachtsbaum zeichnen\n",
    "for i in range(hoehe):\n",
    "    print(' ' * (hoehe - i - 1) + '*' * (2 * i + 1))\n",
    "\n",
    "# Stamm des Weihnachtsbaums zeichnen\n",
    "for i in range(3):\n",
    "    print(' ' * (hoehe - 2) + '***')"
   ]
  }
 ],
 "metadata": {
  "kernelspec": {
   "display_name": "Python 3",
   "language": "python",
   "name": "python3"
  },
  "language_info": {
   "codemirror_mode": {
    "name": "ipython",
    "version": 3
   },
   "file_extension": ".py",
   "mimetype": "text/x-python",
   "name": "python",
   "nbconvert_exporter": "python",
   "pygments_lexer": "ipython3",
   "version": "3.12.1"
  }
 },
 "nbformat": 4,
 "nbformat_minor": 2
}
