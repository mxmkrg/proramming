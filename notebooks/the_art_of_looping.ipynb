{
 "cells": [
  {
   "cell_type": "markdown",
   "metadata": {},
   "source": [
    "The Art of looping - Lecture and Projects"
   ]
  },
  {
   "cell_type": "markdown",
   "metadata": {},
   "source": [
    "Coding Task:\n",
    "Create a code that prints a christmas tree"
   ]
  },
  {
   "cell_type": "code",
   "execution_count": 3,
   "metadata": {},
   "outputs": [
    {
     "name": "stdout",
     "output_type": "stream",
     "text": [
      "      o\n",
      "     o*o\n",
      "    o**oo\n",
      "   o*o*o**\n",
      "  **o**ooo*\n",
      " o*ooooo**oo\n",
      "***o*oo*ooo*o\n",
      "     ***\n",
      "     ***\n",
      "     ***\n"
     ]
    }
   ],
   "source": [
    "import random\n",
    "\n",
    "def weihnachtsbaum(weihnachtsbaum_hoehe):\n",
    "    # Weihnachtsbaumhöhe überprüfen\n",
    "    if weihnachtsbaum_hoehe < 3:\n",
    "        print(\"Die Höhe des Weihnachtsbaums muss mindestens 3 betragen!\")\n",
    "        return\n",
    "\n",
    "    # Weihnachtsbaum zeichnen\n",
    "    for i in range(weihnachtsbaum_hoehe):\n",
    "        zeile = ' ' * (weihnachtsbaum_hoehe - i - 1)\n",
    "        for j in range(2 * i + 1):\n",
    "            if random.choice([True, False]):\n",
    "                zeile += '*'\n",
    "            else:\n",
    "                zeile += 'o'  # Kugeln\n",
    "        print(zeile)\n",
    "\n",
    "    # Stamm des Weihnachtsbaums zeichnen\n",
    "    for i in range(3):\n",
    "        print(' ' * (weihnachtsbaum_hoehe - 2) + '***')\n",
    "\n",
    "# Benutzer nach der Länge des Weihnachtsbaums fragen\n",
    "weihnachtsbaum(int(input(\"Bitte geben Sie die Höhe des Weihnachtsbaums ein: \")))"
   ]
  }
 ],
 "metadata": {
  "kernelspec": {
   "display_name": "Python 3",
   "language": "python",
   "name": "python3"
  },
  "language_info": {
   "codemirror_mode": {
    "name": "ipython",
    "version": 3
   },
   "file_extension": ".py",
   "mimetype": "text/x-python",
   "name": "python",
   "nbconvert_exporter": "python",
   "pygments_lexer": "ipython3",
   "version": "3.12.1"
  }
 },
 "nbformat": 4,
 "nbformat_minor": 2
}
