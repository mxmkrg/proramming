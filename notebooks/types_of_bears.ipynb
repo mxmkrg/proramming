{
 "cells": [
  {
   "cell_type": "markdown",
   "metadata": {},
   "source": [
    "1.Create a list with duplicates\n",
    "2.find max and min of a list\n",
    "3.remove duplicates"
   ]
  },
  {
   "cell_type": "code",
   "execution_count": null,
   "metadata": {},
   "outputs": [],
   "source": [
    "list = [1,2,3,1,5,6]\n",
    "\n",
    "list_max = max(list)\n",
    "list_min = min(list)\n",
    "\n",
    "list = list(set(list))"
   ]
  },
  {
   "cell_type": "code",
   "execution_count": null,
   "metadata": {},
   "outputs": [],
   "source": [
    "#List of dictionaries\n",
    "transactions = [\n",
    "    {\"form\": \"purchase\", \"amount\": 150, \"date\": \"2020-01-02\"},\n",
    "    {\"form\": \"sale\", \"amount\": 50, \"date\": \"2020-01-03\"},\n",
    "    {\"form\": \"purchase\", \"amount\": 200, \"date\": \"2020-01-04\"},\n",
    "    {\"form\": \"purchase\", \"amount\": 300, \"date\": \"2020-01-05\"},\n",
    "    {\"form\": \"sale\", \"amount\": 100, \"date\": \"2020-01-06\"}\n",
    "]\n",
    "\n",
    "#How many transactions were done yesterday\n",
    "for transaction in transactions:\n",
    "    transaction_amount = 0\n",
    "    if transaction[\"date\"] == \"2020-01-04\":\n",
    "        transaction_amount += 1\n",
    "        break\n",
    "\n",
    "#What was the total income and expense over all transactions\n",
    "for transaction in transactions:\n",
    "    sale_amount = 0\n",
    "    purchase_amount = 0\n",
    "    if transaction[\"form\"] == \"purchase\":\n",
    "        purchase_amount += transaction[\"amount\"]\n",
    "    elif transaction[\"form\"] == \"sale\":\n",
    "        sale_amount += transaction[\"amount\"]"
   ]
  }
 ],
 "metadata": {
  "language_info": {
   "name": "python"
  }
 },
 "nbformat": 4,
 "nbformat_minor": 2
}
