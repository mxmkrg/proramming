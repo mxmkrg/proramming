{
 "cells": [
  {
   "cell_type": "markdown",
   "metadata": {},
   "source": [
    "1.Create a list with duplicates\n",
    "2.find max and min of a list\n",
    "3.remove duplicates"
   ]
  },
  {
   "cell_type": "code",
   "execution_count": null,
   "metadata": {},
   "outputs": [],
   "source": [
    "list = [1,2,3,1,5,6]\n",
    "\n",
    "list_max = max(list)\n",
    "list_min = min(list)\n",
    "\n",
    "list = list(set(list))"
   ]
  },
  {
   "cell_type": "code",
   "execution_count": null,
   "metadata": {},
   "outputs": [],
   "source": [
    "#List of dictionaries\n",
    "transactions = [\n",
    "    {\"form\": \"purchase\", \"amount\": 150, \"date\": \"2020-01-02\"},\n",
    "    {\"form\": \"sale\", \"amount\": 50, \"date\": \"2020-01-03\"},\n",
    "    {\"form\": \"purchase\", \"amount\": 200, \"date\": \"2020-01-04\"},\n",
    "    {\"form\": \"purchase\", \"amount\": 300, \"date\": \"2020-01-05\"},\n",
    "    {\"form\": \"sale\", \"amount\": 100, \"date\": \"2020-01-06\"}\n",
    "]\n",
    "\n",
    "#How many transactions were done yesterday\n",
    "for transaction in transactions:\n",
    "    transaction_amount = 0\n",
    "    if transaction[\"date\"] == \"2020-01-04\":\n",
    "        transaction_amount += 1\n",
    "        break\n",
    "\n",
    "#What was the total income and expense over all transactions\n",
    "for transaction in transactions:\n",
    "    sale_amount = 0\n",
    "    purchase_amount = 0\n",
    "    if transaction[\"form\"] == \"purchase\":\n",
    "        purchase_amount += transaction[\"amount\"]\n",
    "    elif transaction[\"form\"] == \"sale\":\n",
    "        sale_amount += transaction[\"amount\"]"
   ]
  },
  {
   "cell_type": "markdown",
   "metadata": {},
   "source": [
    "Pandas\n",
    "Eine Bibliothek für die Analyse und Verarbeitung von strukturierten Daten (ähnlich wie Excel oder SQL-Tabellen).\n",
    "Stellt zwei Hauptdatentypen bereit:\n",
    "    Series: Eine 1D-Datenstruktur (ähnlich einer Liste).\n",
    "    DataFrame: Eine 2D-Tabelle mit Zeilen und Spalten (ähnlich einer Excel-Tabelle).\n",
    "Basiert intern auf NumPy und erweitert dessen Funktionen für die Datenanalyse"
   ]
  },
  {
   "cell_type": "code",
   "execution_count": 2,
   "metadata": {},
   "outputs": [
    {
     "name": "stdout",
     "output_type": "stream",
     "text": [
      "    cars  passings\n",
      "0    BMW         3\n",
      "1  Volvo         7\n",
      "2   Ford         2\n"
     ]
    }
   ],
   "source": [
    "import pandas as pd\n",
    "\n",
    "mydataset = {\n",
    "  'cars': [\"BMW\", \"Volvo\", \"Ford\"],\n",
    "  'passings': [3, 7, 2]\n",
    "}\n",
    "\n",
    "myvar = pd.DataFrame(mydataset)\n",
    "\n",
    "print(myvar)"
   ]
  },
  {
   "cell_type": "markdown",
   "metadata": {},
   "source": [
    "NumPy\n",
    "Eine Bibliothek für numerische Berechnungen mit leistungsstarken Arrays (ndarrays).\n",
    "Bietet mathematische Funktionen wie Mittelwert, Standardabweichung, Matrixoperationen usw.\n",
    "Ersetzt Python-Listen für effiziente Berechnungen mit großen Datenmengen.\n",
    "Unterstützt Vektorisierung (d.h. Operationen auf Arrays werden schneller ausgeführt als mit normalen Schleifen)."
   ]
  },
  {
   "cell_type": "code",
   "execution_count": 4,
   "metadata": {},
   "outputs": [
    {
     "name": "stdout",
     "output_type": "stream",
     "text": [
      "[ 2  4  6  8 10]\n"
     ]
    }
   ],
   "source": [
    "import numpy as np\n",
    "\n",
    "arr = np.array([1, 2, 3, 4, 5])\n",
    "\n",
    "print(arr * 2)  # Multipliziert jedes Element mit 2"
   ]
  }
 ],
 "metadata": {
  "kernelspec": {
   "display_name": "Python 3",
   "language": "python",
   "name": "python3"
  },
  "language_info": {
   "codemirror_mode": {
    "name": "ipython",
    "version": 3
   },
   "file_extension": ".py",
   "mimetype": "text/x-python",
   "name": "python",
   "nbconvert_exporter": "python",
   "pygments_lexer": "ipython3",
   "version": "3.12.1"
  }
 },
 "nbformat": 4,
 "nbformat_minor": 2
}
